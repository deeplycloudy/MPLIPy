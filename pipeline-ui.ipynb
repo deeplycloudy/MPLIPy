{
 "metadata": {
  "name": "pipeline-ui"
 },
 "nbformat": 3,
 "nbformat_minor": 0,
 "worksheets": [
  {
   "cells": [
    {
     "cell_type": "code",
     "collapsed": false,
     "input": [
      "%pylab\n",
      "%run IB4D_pipeline.py\n",
      "\n",
      "\n",
      "import json\n",
      "decoder = json.JSONDecoder()\n",
      "\n",
      "from IB4Dui import CallbackCenter, SliderManager\n",
      "\n",
      "# for debugging\n",
      "from IPython.core.display import Javascript, display\n",
      "\n",
      "set_sliders_py = SliderManager(p)\n",
      "data_resend = d.resend\n",
      "\n",
      "class InteractionCallbacks(object):\n",
      "    def __init__(self, funcs):\n",
      "        self.funcs = funcs\n",
      "        \n",
      "    def __call__(self):\n",
      "        for f in self.funcs:\n",
      "            f()\n",
      "\n",
      "funcs = [set_sliders_py, data_resend]\n",
      "interact_callbacks = InteractionCallbacks(funcs)\n",
      "p.bounds_updated_callback = interact_callbacks\n",
      "\n",
      "    \n",
      "\n",
      "def load_lma():\n",
      "    print \"Loading LMA now\"\n",
      "\n",
      "def do_animate(duration=0):\n",
      "    # do int(duration) - comes in as a string\n",
      "    print \"Animating some stuff for {0} seconds\".format(duration)\n",
      "\n",
      "from IB4Dui import CallbackCenter, SliderManager\n",
      "\n",
      "menu_callback_triggers = {\n",
      "    'lma_load': load_lma,\n",
      "    'do_animate': do_animate,\n",
      "}\n",
      "ui_callback = CallbackCenter(menu_callback_triggers)\n",
      "\n",
      "\n",
      "def update_limits(bounds_json):\n",
      "    \"\"\" This is called by the UI after a slider changes\"\"\"\n",
      "    \n",
      "    # I think we need to set the bounds in the panels object here.\n",
      "\n",
      "    bounds = decoder.decode(bounds_json)\n",
      "    js = \"console.log(\" + json.dumps(bounds.__repr__()) + \")\"\n",
      "    print js\n",
      "    display(Javascript(js))\n",
      "    \n",
      "    xy = bounds[\"x\"] + bounds[\"y\"]\n",
      "    zy = bounds[\"z\"] + bounds[\"y\"]\n",
      "    xz = bounds[\"x\"] + bounds[\"z\"]\n",
      "    tz = bounds[\"t\"] + bounds[\"z\"]\n",
      "    \n",
      "    \n",
      "    p.panels['xy'].axis(xy, emit=False)\n",
      "    p.panels['zy'].axis(zy, emit=False)\n",
      "    p.panels['xz'].axis(xz, emit=False)\n",
      "    p.panels['tz'].axis(tz, emit=False)  \n",
      "        \n",
      "    p.figure.canvas.draw()\n",
      "    \n",
      "    p.update_bounds_after_interaction(p.axes_managers['xy'])\n",
      "    p.update_bounds_after_interaction(p.axes_managers['tz'])\n",
      "\n",
      "    p.reset_axes_events()"
     ],
     "language": "python",
     "metadata": {},
     "outputs": [
      {
       "output_type": "stream",
       "stream": "stdout",
       "text": [
        "\n",
        "Welcome to pylab, a matplotlib-based Python environment [backend: MacOSX].\n",
        "For more information, type 'help(pylab)'.\n"
       ]
      },
      {
       "javascript": [
        "set_sliders('{\"y\": [-1.021450459652707, 8.9785495403472932], \"x\": [-1.6176765650080256, 8.3823234349919726], \"z\": [0.0, 10.0], \"t\": [0.0, 10.0]}');"
       ],
       "output_type": "display_data",
       "text": [
        "<IPython.core.display.Javascript at 0x4f937d0>"
       ]
      }
     ],
     "prompt_number": 1
    },
    {
     "cell_type": "markdown",
     "metadata": {},
     "source": [
      "IB4D controls\n",
      "-------------\n",
      "<link rel=\"stylesheet\" href=\"files/static/IB4D.css\">\n",
      "<script type=\"text/javascript\" src=\"files/static/js/IB4D.js\"></script>\n",
      "\n",
      "<script>\n",
      "    $('div#x_slider').slider({\n",
      "        range: true,\n",
      "        min : -20,\n",
      "        max : 20,\n",
      "        step : 0.1,\n",
      "        values : [0,10],\n",
      "        slide : slide_event,\n",
      "    });\n",
      "    \n",
      "    $('div#y_slider').slider({\n",
      "        range: true,\n",
      "        min : -20,\n",
      "        max : 20,\n",
      "        step : 0.1,\n",
      "        values : [0,10],\n",
      "        slide : slide_event,\n",
      "    });\n",
      "    \n",
      "    $('div#z_slider').slider({\n",
      "        range: true,\n",
      "        min : -20,\n",
      "        max : 20,\n",
      "        step : 0.1,\n",
      "        values : [0,10],\n",
      "        slide : slide_event,\n",
      "    });\n",
      "    \n",
      "    $('div#t_slider').slider({\n",
      "        range: true,\n",
      "        min : -20,\n",
      "        max : 20,\n",
      "        step : 0.1,\n",
      "        values : [0,10],\n",
      "        slide : slide_event,\n",
      "    });\n",
      "\n",
      "    \n",
      "    $('#bounds').draggable();\n",
      "    $('#animation').draggable();\n",
      "    $('#lma_load').button();\n",
      "    $('#lma_load').click(function() { var event_spec = { item_id: 'lma_load' };\n",
      "                                       ui_callback(event_spec);\n",
      "                                      } );\n",
      "    \n",
      "    $('#do_animate').button();\n",
      "    $('#do_animate').click(function() { var event_spec = { item_id: 'do_animate'} ;\n",
      "                                        event_spec['duration'] = $('#anim_length').val() ;\n",
      "                                       console.log(event_spec);\n",
      "                                       ui_callback(event_spec);\n",
      "                                      } );\n",
      ";\n",
      "    \n",
      "</script>\n",
      "\n",
      "<style type=\"text/css\">\n",
      "    .ui-group{\n",
      "        background:#ffffff;\n",
      "        padding:5px;\n",
      "        border:1px solid #e0e0e0;\n",
      "    }\n",
      "    \n",
      "    #bounds { width:50%; }\n",
      "    \n",
      "    #animation { width:10em; }\n",
      "    #animation input {width:20%;}\n",
      "</style>\n",
      "\n",
      "\n",
      "<div id=\"IB4D\">\n",
      "    <a href=\"#\" id=\"lma_load\">Load LMA HDF5</a>\n",
      "    \n",
      "\n",
      "    <div id=\"bounds\" class=\"ui-group\">\n",
      "    <span id=\"x_label\"></span><div id=\"x_slider\"></div>\n",
      "    <span id=\"y_label\"></span><div id=\"y_slider\"></div>\n",
      "    <span id=\"z_label\"></span><div id=\"z_slider\"></div>\n",
      "    <span id=\"t_label\"></span><div id=\"t_slider\"></div>\n",
      "    </div>\n",
      "    \n",
      "    <div id=\"animation\" class=\"ui-group\">\n",
      "        <h4>Animation</h4>\n",
      "        <label for=\"anim_length\">Duration</label>\n",
      "        <input type=\"text\" name=\"anim_length\" id=\"anim_length\" value=\"4\"/>\n",
      "        <a href=\"#\" id=\"do_animate\">Animate</a>\n",
      "    </div>\n",
      "</div>"
     ]
    },
    {
     "cell_type": "code",
     "collapsed": false,
     "input": [
      "import json"
     ],
     "language": "python",
     "metadata": {},
     "outputs": [],
     "prompt_number": 5
    },
    {
     "cell_type": "code",
     "collapsed": false,
     "input": [
      "p.update_bounds_after_interaction(p.axes_managers['tz'])"
     ],
     "language": "python",
     "metadata": {},
     "outputs": [],
     "prompt_number": 4
    },
    {
     "cell_type": "code",
     "collapsed": false,
     "input": [
      "bounds_d = dict(p.bounds.limits())\n",
      "bounds_d['x']=(3,5)\n",
      "bounds_json = json.dumps(bounds_d)\n",
      "print bounds_json"
     ],
     "language": "python",
     "metadata": {},
     "outputs": [
      {
       "output_type": "stream",
       "stream": "stdout",
       "text": [
        "{\"y\": [-1.0, 9.0], \"x\": [3, 5], \"z\": [0.0, 10.0], \"t\": [0.0, 10.0]}\n"
       ]
      }
     ],
     "prompt_number": 2
    },
    {
     "cell_type": "code",
     "collapsed": false,
     "input": [
      "update_limits(bounds_json)"
     ],
     "language": "python",
     "metadata": {},
     "outputs": [
      {
       "output_type": "stream",
       "stream": "stdout",
       "text": [
        "console.log('\"{u'y': [-1.0, 9.0], u'x': [3, 5], u'z': [0.0, 10.0], u't': [0.0, 10.0]}\"')\n"
       ]
      },
      {
       "javascript": [
        "set_sliders('{\"y\": [-1.0, 9.0], \"x\": [3.0, 5.0], \"z\": [0.0, 10.0], \"t\": [0.0, 10.0]}');"
       ],
       "output_type": "display_data",
       "text": [
        "<IPython.core.display.Javascript at 0x4f935f0>"
       ]
      },
      {
       "output_type": "stream",
       "stream": "stdout",
       "text": [
        "\n"
       ]
      }
     ],
     "prompt_number": 3
    },
    {
     "cell_type": "code",
     "collapsed": false,
     "input": [],
     "language": "python",
     "metadata": {},
     "outputs": []
    }
   ],
   "metadata": {}
  }
 ]
}