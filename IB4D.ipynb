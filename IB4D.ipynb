{
 "metadata": {
  "name": "IB4D"
 },
 "nbformat": 3,
 "nbformat_minor": 0,
 "worksheets": [
  {
   "cells": [
    {
     "cell_type": "code",
     "collapsed": false,
     "input": [
      "%pylab\n",
      "%run IB4D.py"
     ],
     "language": "python",
     "metadata": {},
     "outputs": [
      {
       "output_type": "stream",
       "stream": "stdout",
       "text": [
        "\n",
        "Welcome to pylab, a matplotlib-based Python environment [backend: MacOSX].\n",
        "For more information, type 'help(pylab)'.\n"
       ]
      }
     ],
     "prompt_number": 1
    },
    {
     "cell_type": "markdown",
     "metadata": {},
     "source": [
      "IB4D controls\n",
      "-------------\n",
      "<link rel=\"stylesheet\" href=\"files/static/IB4D.css\">\n",
      "<script type=\"text/javascript\" src=\"files/static/js/IB4D.js\"></script>\n",
      "\n",
      "<script>\n",
      "    $('div#x_slider').slider({\n",
      "        range: true,\n",
      "        min : -20,\n",
      "        max : 20,\n",
      "        step : 0.1,\n",
      "        values : [0,10],\n",
      "        slide : slide_event,\n",
      "    });\n",
      "    \n",
      "    $('div#y_slider').slider({\n",
      "        range: true,\n",
      "        min : -20,\n",
      "        max : 20,\n",
      "        step : 0.1,\n",
      "        values : [0,10],\n",
      "        slide : slide_event,\n",
      "    });\n",
      "    \n",
      "    $('div#z_slider').slider({\n",
      "        range: true,\n",
      "        min : -20,\n",
      "        max : 20,\n",
      "        step : 0.1,\n",
      "        values : [0,10],\n",
      "        slide : slide_event,\n",
      "    });\n",
      "    \n",
      "    $('div#t_slider').slider({\n",
      "        range: true,\n",
      "        min : -20,\n",
      "        max : 20,\n",
      "        step : 0.1,\n",
      "        values : [0,10],\n",
      "        slide : slide_event,\n",
      "    });\n",
      "\n",
      "    \n",
      "    $('#bounds').draggable();\n",
      "    $('#animation').draggable();\n",
      "    $('#lma_load').button();\n",
      "    $('#lma_load').click(function() { var event_spec = { item_id: 'lma_load' };\n",
      "                                       ui_callback(event_spec);\n",
      "                                      } );\n",
      "    \n",
      "    $('#do_animate').button();\n",
      "    $('#do_animate').click(function() { var event_spec = { item_id: 'do_animate'} ;\n",
      "                                        event_spec['duration'] = $('#anim_length').val() ;\n",
      "                                       console.log(event_spec);\n",
      "                                       ui_callback(event_spec);\n",
      "                                      } );\n",
      ";\n",
      "    \n",
      "</script>\n",
      "\n",
      "<style type=\"text/css\">\n",
      "    .ui-group{\n",
      "        background:#ffffff;\n",
      "        padding:5px;\n",
      "        border:1px solid #e0e0e0;\n",
      "    }\n",
      "    \n",
      "    #bounds { width:50%; }\n",
      "    \n",
      "    #animation { width:10em; }\n",
      "    #animation input {width:20%;}\n",
      "</style>\n",
      "\n",
      "\n",
      "<div id=\"IB4D\">\n",
      "    <a href=\"#\" id=\"lma_load\">Load LMA HDF5</a>\n",
      "    \n",
      "\n",
      "    <div id=\"bounds\" class=\"ui-group\">\n",
      "    <span id=\"x_label\"></span><div id=\"x_slider\"></div>\n",
      "    <span id=\"y_label\"></span><div id=\"y_slider\"></div>\n",
      "    <span id=\"z_label\"></span><div id=\"z_slider\"></div>\n",
      "    <span id=\"t_label\"></span><div id=\"t_slider\"></div>\n",
      "    </div>\n",
      "    \n",
      "    <div id=\"animation\" class=\"ui-group\">\n",
      "        <h4>Animation</h4>\n",
      "        <label for=\"anim_length\">Duration</label>\n",
      "        <input type=\"text\" name=\"anim_length\" id=\"anim_length\" value=\"4\"/>\n",
      "        <a href=\"#\" id=\"do_animate\">Animate</a>\n",
      "    </div>\n",
      "</div>"
     ]
    },
    {
     "cell_type": "code",
     "collapsed": false,
     "input": [
      "set_sliders_py()"
     ],
     "language": "python",
     "metadata": {},
     "outputs": [],
     "prompt_number": 5
    },
    {
     "cell_type": "code",
     "collapsed": false,
     "input": [],
     "language": "python",
     "metadata": {},
     "outputs": [],
     "prompt_number": 5
    },
    {
     "cell_type": "code",
     "collapsed": false,
     "input": [],
     "language": "python",
     "metadata": {},
     "outputs": [],
     "prompt_number": 5
    },
    {
     "cell_type": "code",
     "collapsed": false,
     "input": [],
     "language": "python",
     "metadata": {},
     "outputs": []
    }
   ],
   "metadata": {}
  }
 ]
}